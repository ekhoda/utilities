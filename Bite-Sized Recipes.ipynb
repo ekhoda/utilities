{
 "cells": [
  {
   "cell_type": "markdown",
   "metadata": {},
   "source": [
    "## Bite-Sized Python Recipes\n",
    "_Disclaimer:_ This is a collection of small useful functions I've found around the web, mainly on Stack Overflow or Python documentation page. I intend to keep up-to-date."
   ]
  },
  {
   "cell_type": "markdown",
   "metadata": {},
   "source": [
    "Jump to [Vol. 2](#vol2)"
   ]
  },
  {
   "cell_type": "markdown",
   "metadata": {},
   "source": [
    "**Create a Dictionary From Two Lists:**"
   ]
  },
  {
   "cell_type": "code",
   "execution_count": 1,
   "metadata": {
    "ExecuteTime": {
     "end_time": "2019-04-21T21:21:46.467297Z",
     "start_time": "2019-04-21T21:21:46.452337Z"
    }
   },
   "outputs": [
    {
     "data": {
      "text/plain": [
       "{1: 'foo', 2: 'bar', 3: 'baz'}"
      ]
     },
     "execution_count": 1,
     "metadata": {},
     "output_type": "execute_result"
    }
   ],
   "source": [
    "prod_id = [1, 2, 3]\n",
    "prod_name = ['foo', 'bar', 'baz']\n",
    "prod_dict = dict(zip(prod_id, prod_name))\n",
    "\n",
    "prod_dict"
   ]
  },
  {
   "cell_type": "markdown",
   "metadata": {},
   "source": [
    "**Remove Duplicates From a List and Keep the Order:**"
   ]
  },
  {
   "cell_type": "code",
   "execution_count": 2,
   "metadata": {
    "ExecuteTime": {
     "end_time": "2019-04-21T21:21:46.492229Z",
     "start_time": "2019-04-21T21:21:46.470289Z"
    }
   },
   "outputs": [
    {
     "data": {
      "text/plain": [
       "[1, 2, 4, 3, 0, 5]"
      ]
     },
     "execution_count": 2,
     "metadata": {},
     "output_type": "execute_result"
    }
   ],
   "source": [
    "from collections import OrderedDict\n",
    "\n",
    "nums = [1, 2, 4, 3, 0, 4, 1, 2, 5]\n",
    "list(OrderedDict.fromkeys(nums))\n",
    "\n",
    "# As of Python 3.6 (for the CPython implementation) and\n",
    "# as of 3.7 (across all implementations) dictionaries remember\n",
    "# the order of items inserted. So, a better one is:\n",
    "list(dict.fromkeys(nums))"
   ]
  },
  {
   "cell_type": "markdown",
   "metadata": {},
   "source": [
    "**Create a Multi-Level Nested Dictionary:**\n",
    "\n",
    "Create a dictionary as a value in a dictionary.  Essentially, it's a dictionary that goes multiple levels deep."
   ]
  },
  {
   "cell_type": "code",
   "execution_count": 3,
   "metadata": {
    "ExecuteTime": {
     "end_time": "2019-04-21T21:21:46.507190Z",
     "start_time": "2019-04-21T21:21:46.495222Z"
    }
   },
   "outputs": [],
   "source": [
    "from collections import defaultdict\n",
    "\n",
    "def multi_level_dict():\n",
    "    \"\"\" Constructor for creating multi-level nested dictionary. \"\"\"\n",
    "\n",
    "    return defaultdict(multi_level_dict)"
   ]
  },
  {
   "cell_type": "markdown",
   "metadata": {
    "hide_input": false
   },
   "source": [
    "_Example 1:_"
   ]
  },
  {
   "cell_type": "code",
   "execution_count": 4,
   "metadata": {
    "ExecuteTime": {
     "end_time": "2019-04-21T21:21:46.525143Z",
     "start_time": "2019-04-21T21:21:46.513173Z"
    }
   },
   "outputs": [
    {
     "data": {
      "text/plain": [
       "defaultdict(<function __main__.multi_level_dict()>,\n",
       "            {'a': defaultdict(<function __main__.multi_level_dict()>,\n",
       "                         {'a': defaultdict(<function __main__.multi_level_dict()>,\n",
       "                                      {'y': 2})}),\n",
       "             'b': defaultdict(<function __main__.multi_level_dict()>,\n",
       "                         {'c': defaultdict(<function __main__.multi_level_dict()>,\n",
       "                                      {'a': 5})}),\n",
       "             'x': defaultdict(<function __main__.multi_level_dict()>,\n",
       "                         {'a': 6})})"
      ]
     },
     "execution_count": 4,
     "metadata": {},
     "output_type": "execute_result"
    }
   ],
   "source": [
    "d = multi_level_dict()\n",
    "d['a']['a']['y'] = 2\n",
    "d['b']['c']['a'] = 5\n",
    "d['x']['a'] = 6\n",
    "\n",
    "d"
   ]
  },
  {
   "cell_type": "markdown",
   "metadata": {},
   "source": [
    "_Example 2:_\n",
    "\n",
    "A list of products is given, where each product needs to be delivered from its origin to its distribution center (DC), and then to its destination. Given this list, create a dictionary for the list of products that are shipped through each DC, coming from each origin and going to each destination."
   ]
  },
  {
   "cell_type": "code",
   "execution_count": 5,
   "metadata": {
    "ExecuteTime": {
     "end_time": "2019-04-21T21:21:46.547082Z",
     "start_time": "2019-04-21T21:21:46.531126Z"
    }
   },
   "outputs": [
    {
     "data": {
      "text/plain": [
       "defaultdict(<function __main__.multi_level_dict()>,\n",
       "            {'dc1': defaultdict(<function __main__.multi_level_dict()>,\n",
       "                         {'o2': defaultdict(<function __main__.multi_level_dict()>,\n",
       "                                      {'d3': [P0, P15],\n",
       "                                       'd1': [P2, P9, P14, P18],\n",
       "                                       'd2': [P3, P13]}),\n",
       "                          'o1': defaultdict(<function __main__.multi_level_dict()>,\n",
       "                                      {'d1': [P1, P16],\n",
       "                                       'd3': [P4, P6, P7, P11],\n",
       "                                       'd2': [P17, P19]})}),\n",
       "             'dc2': defaultdict(<function __main__.multi_level_dict()>,\n",
       "                         {'o1': defaultdict(<function __main__.multi_level_dict()>,\n",
       "                                      {'d1': [P5, P12], 'd3': [P10]}),\n",
       "                          'o2': defaultdict(<function __main__.multi_level_dict()>,\n",
       "                                      {'d1': [P8]})})})"
      ]
     },
     "execution_count": 5,
     "metadata": {},
     "output_type": "execute_result"
    }
   ],
   "source": [
    "import random\n",
    "random.seed(20)\n",
    "\n",
    "# Just creating arbitrary attributes for each Product instance\n",
    "class Product:\n",
    "    def __init__(self, id):\n",
    "        self.id = id\n",
    "        self.materials = random.sample('ABCD', 3)  # comprising materials\n",
    "        self.origin = random.choice(('o1', 'o2'))\n",
    "        self.destination = random.choice(('d1', 'd2', 'd3'))\n",
    "        self.dc = random.choice(('dc1', 'dc2'))\n",
    "        \n",
    "    def __repr__(self):\n",
    "        return f'P{str(self.id)}'\n",
    "\n",
    "\n",
    "products = [Product(i) for i in range(20)]\n",
    "\n",
    "# create the multi-level dictionary\n",
    "def get_dc_origin_destination_products_dict(products):\n",
    "    dc_od_products_dict = multi_level_dict()\n",
    "    for p in products:\n",
    "        dc_od_products_dict[p.dc][p.origin].setdefault(p.destination, []).append(p)\n",
    "    return dc_od_products_dict\n",
    "\n",
    "\n",
    "dc_od_orders_dict = get_dc_origin_destination_products_dict(products)\n",
    "dc_od_orders_dict"
   ]
  },
  {
   "cell_type": "markdown",
   "metadata": {},
   "source": [
    "**Return the Keys and Values From the Innermost Layer of a Nested Dict:**"
   ]
  },
  {
   "cell_type": "code",
   "execution_count": 6,
   "metadata": {
    "ExecuteTime": {
     "end_time": "2019-04-21T21:21:46.558053Z",
     "start_time": "2019-04-21T21:21:46.550075Z"
    }
   },
   "outputs": [],
   "source": [
    "from collections import abc\n",
    "\n",
    "def nested_dict_iter(nested):\n",
    "    \"\"\" Return the keys and values from the innermost layer of a nested dict. \"\"\"\n",
    "\n",
    "    for key, value in nested.items():\n",
    "        # Check if value is a dictionary. abc.Mapping is used for generality\n",
    "        if isinstance(value, abc.Mapping):\n",
    "            yield from nested_dict_iter(value)\n",
    "        else:\n",
    "            yield key, value"
   ]
  },
  {
   "cell_type": "markdown",
   "metadata": {},
   "source": [
    "_Example 1:_"
   ]
  },
  {
   "cell_type": "code",
   "execution_count": 7,
   "metadata": {
    "ExecuteTime": {
     "end_time": "2019-04-21T21:21:46.570021Z",
     "start_time": "2019-04-21T21:21:46.561045Z"
    }
   },
   "outputs": [
    {
     "data": {
      "text/plain": [
       "[('y', 2), ('a', 5), ('a', 6)]"
      ]
     },
     "execution_count": 7,
     "metadata": {},
     "output_type": "execute_result"
    }
   ],
   "source": [
    "d = {'a':{'a':{'y':2}},'b':{'c':{'a':5}},'x':{'a':6}}\n",
    "list(nested_dict_iter(d))"
   ]
  },
  {
   "cell_type": "markdown",
   "metadata": {},
   "source": [
    "_Example 2:_ let's retrieve keys and values from our `dc_od_orders_dict` above."
   ]
  },
  {
   "cell_type": "code",
   "execution_count": 8,
   "metadata": {
    "ExecuteTime": {
     "end_time": "2019-04-21T21:21:46.587973Z",
     "start_time": "2019-04-21T21:21:46.573014Z"
    }
   },
   "outputs": [
    {
     "data": {
      "text/plain": [
       "[('d3', [P0, P15]),\n",
       " ('d1', [P2, P9, P14, P18]),\n",
       " ('d2', [P3, P13]),\n",
       " ('d1', [P1, P16]),\n",
       " ('d3', [P4, P6, P7, P11]),\n",
       " ('d2', [P17, P19]),\n",
       " ('d1', [P5, P12]),\n",
       " ('d3', [P10]),\n",
       " ('d1', [P8])]"
      ]
     },
     "execution_count": 8,
     "metadata": {},
     "output_type": "execute_result"
    }
   ],
   "source": [
    "list(nested_dict_iter(dc_od_orders_dict))"
   ]
  },
  {
   "cell_type": "markdown",
   "metadata": {},
   "source": [
    "**The Intersection of Multiple Sets:**"
   ]
  },
  {
   "cell_type": "code",
   "execution_count": 9,
   "metadata": {
    "ExecuteTime": {
     "end_time": "2019-04-21T21:21:46.596961Z",
     "start_time": "2019-04-21T21:21:46.590965Z"
    }
   },
   "outputs": [],
   "source": [
    "def get_common_attr(attr, *args):\n",
    "    \"\"\" intersection requires 'set' objects \"\"\"\n",
    "    \n",
    "    return set.intersection(*[set(getattr(a, attr)) for a in args])"
   ]
  },
  {
   "cell_type": "markdown",
   "metadata": {},
   "source": [
    "_Example:_ Find the common comprising materials, if any, among our first 5 `products`."
   ]
  },
  {
   "cell_type": "code",
   "execution_count": 10,
   "metadata": {
    "ExecuteTime": {
     "end_time": "2019-04-21T21:21:46.609914Z",
     "start_time": "2019-04-21T21:21:46.599942Z"
    }
   },
   "outputs": [
    {
     "data": {
      "text/plain": [
       "{'B'}"
      ]
     },
     "execution_count": 10,
     "metadata": {},
     "output_type": "execute_result"
    }
   ],
   "source": [
    "get_common_attr('materials', *products[:5])"
   ]
  },
  {
   "cell_type": "markdown",
   "metadata": {},
   "source": [
    "**First Match:**\n",
    "\n",
    "Find the first element, if any, from an iterable that matches a condition."
   ]
  },
  {
   "cell_type": "code",
   "execution_count": 11,
   "metadata": {
    "ExecuteTime": {
     "end_time": "2019-04-21T21:21:46.617909Z",
     "start_time": "2019-04-21T21:21:46.612907Z"
    }
   },
   "outputs": [],
   "source": [
    "def first_match(iterable, check_condition, default_value=None):\n",
    "    \"\"\" check_condition is a function. \"\"\"\n",
    "    \n",
    "    return next((i for i in iterable if check_condition(i)), default_value)"
   ]
  },
  {
   "cell_type": "markdown",
   "metadata": {},
   "source": [
    "Example:"
   ]
  },
  {
   "cell_type": "code",
   "execution_count": 12,
   "metadata": {
    "ExecuteTime": {
     "end_time": "2019-04-21T21:21:46.637839Z",
     "start_time": "2019-04-21T21:21:46.620886Z"
    }
   },
   "outputs": [
    {
     "data": {
      "text/plain": [
       "(4, None, 'no_match')"
      ]
     },
     "execution_count": 12,
     "metadata": {},
     "output_type": "execute_result"
    }
   ],
   "source": [
    "nums = [1, 2, 4, 0, 5]\n",
    "f1 = first_match(nums, lambda x: x > 3)\n",
    "f2 = first_match(nums, lambda x: x > 9)\n",
    "f3 = first_match(nums, lambda x: x > 9, 'no_match')\n",
    "f1, f2, f3"
   ]
  },
  {
   "cell_type": "markdown",
   "metadata": {},
   "source": [
    "**Powerset:**\n",
    "\n",
    "The powerset of a set S is the set of all the subsets of S."
   ]
  },
  {
   "cell_type": "code",
   "execution_count": 13,
   "metadata": {
    "ExecuteTime": {
     "end_time": "2019-04-21T21:21:46.645818Z",
     "start_time": "2019-04-21T21:21:46.639835Z"
    }
   },
   "outputs": [],
   "source": [
    "import itertools as it\n",
    "\n",
    "def powerset(iterable):\n",
    "    s = list(iterable)\n",
    "    return it.chain.from_iterable(it.combinations(s, r)\n",
    "                                  for r in range(len(s) + 1))"
   ]
  },
  {
   "cell_type": "markdown",
   "metadata": {},
   "source": [
    "Example:"
   ]
  },
  {
   "cell_type": "code",
   "execution_count": 14,
   "metadata": {
    "ExecuteTime": {
     "end_time": "2019-04-21T21:21:46.660778Z",
     "start_time": "2019-04-21T21:21:46.647813Z"
    }
   },
   "outputs": [
    {
     "data": {
      "text/plain": [
       "[(), (1,), (2,), (3,), (1, 2), (1, 3), (2, 3), (1, 2, 3)]"
      ]
     },
     "execution_count": 14,
     "metadata": {},
     "output_type": "execute_result"
    }
   ],
   "source": [
    "list(powerset([1,2,3]))"
   ]
  },
  {
   "cell_type": "markdown",
   "metadata": {},
   "source": [
    "**Timer Decorator:**\n",
    "\n",
    "Shows the runtime of each class/method/function."
   ]
  },
  {
   "cell_type": "code",
   "execution_count": 15,
   "metadata": {
    "ExecuteTime": {
     "end_time": "2019-04-21T21:21:46.675738Z",
     "start_time": "2019-04-21T21:21:46.664769Z"
    }
   },
   "outputs": [],
   "source": [
    "from time import time\n",
    "from functools import wraps\n",
    "\n",
    "def timeit(func):\n",
    "    \"\"\"\n",
    "    :param func: Decorated function\n",
    "    :return: Execution time for the decorated function\n",
    "    \"\"\"\n",
    "\n",
    "    @wraps(func)\n",
    "    def wrapper(*args, **kwargs):\n",
    "        start = time()\n",
    "        result = func(*args, **kwargs)\n",
    "        end = time()\n",
    "        print(f'{func.__name__} executed in {end - start:.4f} seconds')\n",
    "        # In case you use logging module:\n",
    "        # logging.info(f'{func.__name__} executed in {end - start:.4f} seconds')\n",
    "        return result\n",
    "\n",
    "    return wrapper"
   ]
  },
  {
   "cell_type": "markdown",
   "metadata": {},
   "source": [
    "_Example:_"
   ]
  },
  {
   "cell_type": "code",
   "execution_count": 16,
   "metadata": {
    "ExecuteTime": {
     "end_time": "2019-04-21T21:21:46.907119Z",
     "start_time": "2019-04-21T21:21:46.677733Z"
    }
   },
   "outputs": [
    {
     "name": "stdout",
     "output_type": "stream",
     "text": [
      "sort_rnd_num executed in 0.2194 seconds\n"
     ]
    }
   ],
   "source": [
    "import random\n",
    "\n",
    "# An arbitrary function\n",
    "@timeit\n",
    "def sort_rnd_num():\n",
    "    numbers = [random.randint(100, 200) for _ in range(100000)]\n",
    "    numbers.sort()\n",
    "    return numbers\n",
    "    \n",
    "numbers = sort_rnd_num()"
   ]
  },
  {
   "cell_type": "markdown",
   "metadata": {},
   "source": [
    "**Calculate the Total Number of Lines in a File:**"
   ]
  },
  {
   "cell_type": "code",
   "execution_count": 17,
   "metadata": {
    "ExecuteTime": {
     "end_time": "2019-04-21T21:21:46.935045Z",
     "start_time": "2019-04-21T21:21:46.930058Z"
    }
   },
   "outputs": [],
   "source": [
    "def file_len(file_name, encoding='utf8'):\n",
    "    with open(file_name, encoding=encoding) as f:\n",
    "        i = -1\n",
    "        for i, line in enumerate(f):\n",
    "            pass\n",
    "    return i + 1"
   ]
  },
  {
   "cell_type": "markdown",
   "metadata": {},
   "source": [
    "Example: How many lines of codes are there in the python files of your current directory?"
   ]
  },
  {
   "cell_type": "markdown",
   "metadata": {},
   "source": [
    "_Using `os` and `glob`:_"
   ]
  },
  {
   "cell_type": "code",
   "execution_count": 18,
   "metadata": {
    "ExecuteTime": {
     "end_time": "2019-04-21T21:21:46.972944Z",
     "start_time": "2019-04-21T21:21:46.960976Z"
    }
   },
   "outputs": [
    {
     "name": "stdout",
     "output_type": "stream",
     "text": [
      "1011\n"
     ]
    }
   ],
   "source": [
    "import os\n",
    "import glob\n",
    "\n",
    "path = os.path.abspath('')\n",
    "files_list = glob.glob(path + '/*.ipynb')  # '/*.py' or '/*.ipynb' depending on what you have\n",
    "print(sum(file_len(f) for f in files_list))"
   ]
  },
  {
   "cell_type": "markdown",
   "metadata": {},
   "source": [
    "_Using `pathlib`:_\n",
    "Find out more about `pathlib` and its corrospondance to `os` [here](https://docs.python.org/3/library/pathlib.html#correspondence-to-tools-in-the-os-module)."
   ]
  },
  {
   "cell_type": "code",
   "execution_count": 19,
   "metadata": {
    "ExecuteTime": {
     "end_time": "2019-04-21T21:21:46.988901Z",
     "start_time": "2019-04-21T21:21:46.975935Z"
    }
   },
   "outputs": [
    {
     "name": "stdout",
     "output_type": "stream",
     "text": [
      "1011\n"
     ]
    }
   ],
   "source": [
    "from pathlib import Path\n",
    "\n",
    "p = Path()\n",
    "path = p.resolve()  # similar to os.path.abspath()\n",
    "print(sum(file_len(f) for f in path.glob('*.ipynb')))  # '/*.py' or '/*.ipynb' depending on what you have"
   ]
  },
  {
   "cell_type": "markdown",
   "metadata": {},
   "source": [
    "**Just For Fun! Creating Long Hashtags:**"
   ]
  },
  {
   "cell_type": "code",
   "execution_count": 20,
   "metadata": {
    "ExecuteTime": {
     "end_time": "2019-04-21T21:21:46.999871Z",
     "start_time": "2019-04-21T21:21:46.991892Z"
    }
   },
   "outputs": [
    {
     "data": {
      "text/plain": [
       "'#ThisIsHowICreateVeryLongHashtags'"
      ]
     },
     "execution_count": 20,
     "metadata": {},
     "output_type": "execute_result"
    }
   ],
   "source": [
    "s = \"#this is how I create very long hashtags\"\n",
    "\"\".join(s.title().split())"
   ]
  },
  {
   "cell_type": "markdown",
   "metadata": {},
   "source": [
    "### Some mistakes to avoid:\n",
    "\n",
    "Be careful not to mix up mutable and immutable objects!\n",
    "\n",
    "**Initialize a dictionary with empty lists as values:**"
   ]
  },
  {
   "cell_type": "code",
   "execution_count": 21,
   "metadata": {
    "ExecuteTime": {
     "end_time": "2019-04-21T21:21:47.013834Z",
     "start_time": "2019-04-21T21:21:47.002863Z"
    }
   },
   "outputs": [
    {
     "name": "stdout",
     "output_type": "stream",
     "text": [
      "d1 = {1: [5], 2: [], 3: [], 4: []} \n",
      "d2 = {1: [5], 2: [5], 3: [5], 4: [5]}\n"
     ]
    }
   ],
   "source": [
    "nums = [1, 2, 3, 4]\n",
    "# Create a dictionary with keys from the list.\n",
    "# Let's implement the dictionary in two ways\n",
    "d1 = {n: [] for n in nums}\n",
    "d2 = dict.fromkeys(nums, [])\n",
    "# d1 and d2 may look similar. But list is mutable.\n",
    "d1[1].append(5)\n",
    "d2[1].append(5)\n",
    "# Let's see if d1 and d2 are similar\n",
    "print(f'd1 = {d1} \\nd2 = {d2}')"
   ]
  },
  {
   "cell_type": "markdown",
   "metadata": {},
   "source": [
    "**Don't modify a list while iterating over it:**\n",
    "\n",
    "This is something that should be avoided in any collection.\n",
    "\n",
    "_Example:_ Remove all numbers less than 5 from a list.\n",
    "\n",
    "- Wrong Implementation: Remove the elements while iterating!"
   ]
  },
  {
   "cell_type": "code",
   "execution_count": 22,
   "metadata": {
    "ExecuteTime": {
     "end_time": "2019-04-21T21:21:47.035774Z",
     "start_time": "2019-04-21T21:21:47.017834Z"
    }
   },
   "outputs": [
    {
     "data": {
      "text/plain": [
       "[2, 5, 6, 7, 1]"
      ]
     },
     "execution_count": 22,
     "metadata": {},
     "output_type": "execute_result"
    }
   ],
   "source": [
    "nums = [1, 2, 3, 5, 6, 7, 0, 1]\n",
    "\n",
    "for ind, n in enumerate(nums):\n",
    "    if n < 5:\n",
    "        del(nums[ind])\n",
    "\n",
    "# expected: nums = [5, 6, 7]\n",
    "nums"
   ]
  },
  {
   "cell_type": "markdown",
   "metadata": {},
   "source": [
    "- Correct Implementation:\n",
    "Use list comprehension to create a new list containing only the elements you want!"
   ]
  },
  {
   "cell_type": "code",
   "execution_count": 23,
   "metadata": {
    "ExecuteTime": {
     "end_time": "2019-04-21T21:21:47.046763Z",
     "start_time": "2019-04-21T21:21:47.038771Z"
    }
   },
   "outputs": [
    {
     "data": {
      "text/plain": [
       "2347411645384"
      ]
     },
     "execution_count": 23,
     "metadata": {},
     "output_type": "execute_result"
    }
   ],
   "source": [
    "nums = [1, 2, 3, 5, 6, 7, 0, 1]\n",
    "id(nums)  # before modification"
   ]
  },
  {
   "cell_type": "code",
   "execution_count": 24,
   "metadata": {
    "ExecuteTime": {
     "end_time": "2019-04-21T21:21:47.061717Z",
     "start_time": "2019-04-21T21:21:47.050735Z"
    }
   },
   "outputs": [
    {
     "data": {
      "text/plain": [
       "2347411752648"
      ]
     },
     "execution_count": 24,
     "metadata": {},
     "output_type": "execute_result"
    }
   ],
   "source": [
    "nums = [n for n in nums if n >= 5]\n",
    "id(nums)  # after modification"
   ]
  },
  {
   "cell_type": "markdown",
   "metadata": {},
   "source": [
    "`id(nums)` is checked before and after to show that in fact, they are different lists. So, if the list is used in other places and it's important to mutate the existing list, rather than creating a new list with the same name, assign it to the slice:"
   ]
  },
  {
   "cell_type": "code",
   "execution_count": 25,
   "metadata": {
    "ExecuteTime": {
     "end_time": "2019-04-21T21:21:47.080662Z",
     "start_time": "2019-04-21T21:21:47.066692Z"
    }
   },
   "outputs": [
    {
     "data": {
      "text/plain": [
       "2347411753992"
      ]
     },
     "execution_count": 25,
     "metadata": {},
     "output_type": "execute_result"
    }
   ],
   "source": [
    "nums = [1, 2, 3, 5, 6, 7, 0, 1]\n",
    "id(nums)  # before modification"
   ]
  },
  {
   "cell_type": "code",
   "execution_count": 26,
   "metadata": {
    "ExecuteTime": {
     "end_time": "2019-04-21T21:21:47.092629Z",
     "start_time": "2019-04-21T21:21:47.083648Z"
    }
   },
   "outputs": [
    {
     "data": {
      "text/plain": [
       "2347411753992"
      ]
     },
     "execution_count": 26,
     "metadata": {},
     "output_type": "execute_result"
    }
   ],
   "source": [
    "nums[:] = [n for n in nums if n >= 5]\n",
    "id(nums)  # after modification"
   ]
  },
  {
   "cell_type": "markdown",
   "metadata": {},
   "source": [
    "# ==========================================================\n",
    "<a id='vol2'></a>\n",
    "## Vol. 2\n",
    "# =========================================================="
   ]
  },
  {
   "cell_type": "code",
   "execution_count": 1,
   "metadata": {
    "ExecuteTime": {
     "end_time": "2019-07-29T16:31:19.080606Z",
     "start_time": "2019-07-29T16:31:19.076615Z"
    }
   },
   "outputs": [],
   "source": [
    "# We can print all the outputs not just the last one in a cell by adding the following snippet \n",
    "# at the top of the notebook. To revert to the original setting, you can uncomment the last line.\n",
    "from IPython.core.interactiveshell import InteractiveShell \n",
    "InteractiveShell.ast_node_interactivity = \"all\"\n",
    "\n",
    "# # To revert to the original setting\n",
    "# InteractiveShell.ast_node_interactivity = \"last_expr\""
   ]
  },
  {
   "cell_type": "markdown",
   "metadata": {},
   "source": [
    "**Return the First _N_ Items of an Iterable:**"
   ]
  },
  {
   "cell_type": "code",
   "execution_count": 2,
   "metadata": {
    "ExecuteTime": {
     "end_time": "2019-07-29T16:31:21.498651Z",
     "start_time": "2019-07-29T16:31:21.493622Z"
    }
   },
   "outputs": [],
   "source": [
    "import itertools as it\n",
    "\n",
    "def first_n(iterable, n):\n",
    "    \"\"\" If n > len(iterable) then all the elements are returned. \"\"\"\n",
    "    \n",
    "    return list(it.islice(iterable, n))"
   ]
  },
  {
   "cell_type": "markdown",
   "metadata": {},
   "source": [
    "_Example:_"
   ]
  },
  {
   "cell_type": "code",
   "execution_count": 3,
   "metadata": {
    "ExecuteTime": {
     "end_time": "2019-07-29T16:31:36.980538Z",
     "start_time": "2019-07-29T16:31:36.968571Z"
    }
   },
   "outputs": [
    {
     "data": {
      "text/plain": [
       "[(3, 4), (6, 2), (0, 9)]"
      ]
     },
     "execution_count": 3,
     "metadata": {},
     "output_type": "execute_result"
    },
    {
     "data": {
      "text/plain": [
       "[3, 6, 0, 9, 1]"
      ]
     },
     "execution_count": 3,
     "metadata": {},
     "output_type": "execute_result"
    }
   ],
   "source": [
    "d1 = {3: 4, 6: 2, 0: 9, 9: 0, 1: 4}\n",
    "first_n(d1.items(), 3)\n",
    "first_n(d1, 10)"
   ]
  },
  {
   "cell_type": "markdown",
   "metadata": {},
   "source": [
    "**Check If All the Elements of an Iterable Are the Same:**"
   ]
  },
  {
   "cell_type": "code",
   "execution_count": 4,
   "metadata": {
    "ExecuteTime": {
     "end_time": "2019-07-29T16:32:04.187156Z",
     "start_time": "2019-07-29T16:32:04.182169Z"
    }
   },
   "outputs": [],
   "source": [
    "import itertools as it\n",
    "\n",
    "def all_equal(iterable):\n",
    "    \"\"\" Returns True if all the elements of iterable are equal to each other. \"\"\"\n",
    "\n",
    "    g = it.groupby(iterable)\n",
    "    return next(g, True) and not next(g, False)"
   ]
  },
  {
   "cell_type": "markdown",
   "metadata": {},
   "source": [
    "_Example:_"
   ]
  },
  {
   "cell_type": "code",
   "execution_count": 5,
   "metadata": {
    "ExecuteTime": {
     "end_time": "2019-07-29T16:32:06.383591Z",
     "start_time": "2019-07-29T16:32:06.354675Z"
    }
   },
   "outputs": [
    {
     "data": {
      "text/plain": [
       "False"
      ]
     },
     "execution_count": 5,
     "metadata": {},
     "output_type": "execute_result"
    },
    {
     "data": {
      "text/plain": [
       "True"
      ]
     },
     "execution_count": 5,
     "metadata": {},
     "output_type": "execute_result"
    },
    {
     "data": {
      "text/plain": [
       "True"
      ]
     },
     "execution_count": 5,
     "metadata": {},
     "output_type": "execute_result"
    },
    {
     "data": {
      "text/plain": [
       "True"
      ]
     },
     "execution_count": 5,
     "metadata": {},
     "output_type": "execute_result"
    },
    {
     "data": {
      "text/plain": [
       "False"
      ]
     },
     "execution_count": 5,
     "metadata": {},
     "output_type": "execute_result"
    },
    {
     "data": {
      "text/plain": [
       "True"
      ]
     },
     "execution_count": 5,
     "metadata": {},
     "output_type": "execute_result"
    },
    {
     "data": {
      "text/plain": [
       "True"
      ]
     },
     "execution_count": 5,
     "metadata": {},
     "output_type": "execute_result"
    },
    {
     "data": {
      "text/plain": [
       "True"
      ]
     },
     "execution_count": 5,
     "metadata": {},
     "output_type": "execute_result"
    }
   ],
   "source": [
    "all_equal([1, 2, 3])\n",
    "all_equal(((1, 0), (True, 0)))\n",
    "all_equal([{1, 2}, {2, 1}])\n",
    "all_equal(['4', '4', '4'])\n",
    "all_equal(['4', '4', 4])\n",
    "all_equal([False, 0])\n",
    "all_equal([])\n",
    "all_equal([{1:0, 3:4}, {True:False, 3:4}])"
   ]
  },
  {
   "cell_type": "markdown",
   "metadata": {},
   "source": [
    "When you have a sequence, the following alternative is usually even faster. (Make sure you test it for yourself if you're working with very large sequences.)"
   ]
  },
  {
   "cell_type": "code",
   "execution_count": 6,
   "metadata": {
    "ExecuteTime": {
     "end_time": "2019-07-29T16:32:28.328371Z",
     "start_time": "2019-07-29T16:32:28.321389Z"
    }
   },
   "outputs": [],
   "source": [
    "def all_equal_seq(sequence):\n",
    "    \"\"\" Only works on sequences. Returns True if the sequence is empty\n",
    "    or all the elements are equal to each other. \"\"\"\n",
    "\n",
    "    return not sequence or sequence.count(sequence[0]) == len(sequence)"
   ]
  },
  {
   "cell_type": "markdown",
   "metadata": {},
   "source": [
    "_Example1:_"
   ]
  },
  {
   "cell_type": "code",
   "execution_count": 7,
   "metadata": {
    "ExecuteTime": {
     "end_time": "2019-07-29T16:32:41.642321Z",
     "start_time": "2019-07-29T16:32:41.612398Z"
    }
   },
   "outputs": [
    {
     "data": {
      "text/plain": [
       "False"
      ]
     },
     "execution_count": 7,
     "metadata": {},
     "output_type": "execute_result"
    },
    {
     "data": {
      "text/plain": [
       "True"
      ]
     },
     "execution_count": 7,
     "metadata": {},
     "output_type": "execute_result"
    },
    {
     "data": {
      "text/plain": [
       "True"
      ]
     },
     "execution_count": 7,
     "metadata": {},
     "output_type": "execute_result"
    },
    {
     "data": {
      "text/plain": [
       "True"
      ]
     },
     "execution_count": 7,
     "metadata": {},
     "output_type": "execute_result"
    },
    {
     "data": {
      "text/plain": [
       "False"
      ]
     },
     "execution_count": 7,
     "metadata": {},
     "output_type": "execute_result"
    },
    {
     "data": {
      "text/plain": [
       "True"
      ]
     },
     "execution_count": 7,
     "metadata": {},
     "output_type": "execute_result"
    },
    {
     "data": {
      "text/plain": [
       "True"
      ]
     },
     "execution_count": 7,
     "metadata": {},
     "output_type": "execute_result"
    },
    {
     "data": {
      "text/plain": [
       "True"
      ]
     },
     "execution_count": 7,
     "metadata": {},
     "output_type": "execute_result"
    }
   ],
   "source": [
    "all_equal_seq([1, 2, 3])\n",
    "all_equal_seq(((1, 0), (True, 0)))\n",
    "all_equal_seq([{1, 2}, {2, 1}])\n",
    "all_equal_seq(['4', '4', '4'])\n",
    "all_equal_seq(['4', '4', 4])\n",
    "all_equal_seq([False, 0])\n",
    "all_equal_seq([])\n",
    "all_equal_seq([{1:0, 3:4}, {True:False, 3:4}])"
   ]
  },
  {
   "cell_type": "markdown",
   "metadata": {},
   "source": [
    "_Example2:_ You have a list of trucks and you can check whether they are in the warehouse or en route. As the day progresses, the status of each truck changes."
   ]
  },
  {
   "cell_type": "code",
   "execution_count": 8,
   "metadata": {
    "ExecuteTime": {
     "end_time": "2019-07-29T16:33:14.101116Z",
     "start_time": "2019-07-29T16:33:14.095132Z"
    }
   },
   "outputs": [],
   "source": [
    "import random\n",
    "random.seed(500)\n",
    "\n",
    "# Just creating an arbitrary class and attributes\n",
    "class Truck:\n",
    "    def __init__(self, id):\n",
    "        self.id = id\n",
    "        self.status = random.choice(('loading-unloading', 'en route'))  # random status\n",
    "        \n",
    "    def __repr__(self):\n",
    "        return f'P{str(self.id)}'\n",
    "\n",
    "\n",
    "trucks = [Truck(i) for i in range(50)]"
   ]
  },
  {
   "cell_type": "markdown",
   "metadata": {},
   "source": [
    "In the morning you checked and saw that the first truck is `en route`. You heard that three others are also left the warehouse. Let's verify this:"
   ]
  },
  {
   "cell_type": "code",
   "execution_count": 9,
   "metadata": {
    "ExecuteTime": {
     "end_time": "2019-07-29T16:33:49.222388Z",
     "start_time": "2019-07-29T16:33:49.216404Z"
    }
   },
   "outputs": [
    {
     "data": {
      "text/plain": [
       "True"
      ]
     },
     "execution_count": 9,
     "metadata": {},
     "output_type": "execute_result"
    }
   ],
   "source": [
    "all_equal_seq([t.status for t in trucks[:4]])"
   ]
  },
  {
   "cell_type": "markdown",
   "metadata": {},
   "source": [
    "**Sum an Iterable With `None`:**"
   ]
  },
  {
   "cell_type": "markdown",
   "metadata": {},
   "source": [
    "When you have `numpy` arrays or `pandas` Series or DataFrame, the options are obvious: [`numpy.nansum`](https://docs.scipy.org/doc/numpy/reference/generated/numpy.nansum.html) or [`pandas.DataFrame/Series.sum`](https://pandas.pydata.org/pandas-docs/stable/reference/api/pandas.DataFrame.sum.html). But what if you don't want or can't use those?"
   ]
  },
  {
   "cell_type": "code",
   "execution_count": 10,
   "metadata": {
    "ExecuteTime": {
     "end_time": "2019-07-29T16:34:26.091121Z",
     "start_time": "2019-07-29T16:34:26.085137Z"
    }
   },
   "outputs": [],
   "source": [
    "def sum_with_none(iterable):\n",
    "    \"\"\" Returns sum of elements in an iterable that contains None. \"\"\"\n",
    "    \n",
    "    assert not any(isinstance(v, str) for v in iterable), 'string is not allowed!'\n",
    "\n",
    "    return sum(filter(None, iterable))"
   ]
  },
  {
   "cell_type": "markdown",
   "metadata": {},
   "source": [
    "This works because [`filter`](https://docs.python.org/3/library/functions.html#filter) treats `None` as the identity function; i.e., all [falsy](https://stackoverflow.com/a/39984051) elements of iterable are removed."
   ]
  },
  {
   "cell_type": "markdown",
   "metadata": {},
   "source": [
    "_Example:_"
   ]
  },
  {
   "cell_type": "code",
   "execution_count": 11,
   "metadata": {
    "ExecuteTime": {
     "end_time": "2019-07-29T16:35:47.178455Z",
     "start_time": "2019-07-29T16:35:47.172466Z"
    }
   },
   "outputs": [
    {
     "data": {
      "text/plain": [
       "11"
      ]
     },
     "execution_count": 11,
     "metadata": {},
     "output_type": "execute_result"
    }
   ],
   "source": [
    "seq1 = [None, 1, 2, 3, 4, 0, True, False, None]\n",
    "# sum(seq1)  # --> TypeError\n",
    "# list(filter(None, seq1))  # --> [1, 2, 3, 4, True]\n",
    "sum_with_none(seq1)  # Remember True == 1"
   ]
  },
  {
   "cell_type": "markdown",
   "metadata": {},
   "source": [
    "**Check if _N_ or Fewer Items are Truthy:**"
   ]
  },
  {
   "cell_type": "code",
   "execution_count": 12,
   "metadata": {
    "ExecuteTime": {
     "end_time": "2019-07-29T16:36:22.708048Z",
     "start_time": "2019-07-29T16:36:22.703062Z"
    }
   },
   "outputs": [],
   "source": [
    "def max_n_true(iterable, n):\n",
    "    \"\"\" Returns True if at most `n` values are truthy. \"\"\"\n",
    "    \n",
    "    return sum(map(bool, iterable)) <= n"
   ]
  },
  {
   "cell_type": "markdown",
   "metadata": {},
   "source": [
    "_Example:_"
   ]
  },
  {
   "cell_type": "code",
   "execution_count": 13,
   "metadata": {
    "ExecuteTime": {
     "end_time": "2019-07-29T16:36:36.429352Z",
     "start_time": "2019-07-29T16:36:36.422371Z"
    }
   },
   "outputs": [
    {
     "data": {
      "text/plain": [
       "True"
      ]
     },
     "execution_count": 13,
     "metadata": {},
     "output_type": "execute_result"
    },
    {
     "data": {
      "text/plain": [
       "False"
      ]
     },
     "execution_count": 13,
     "metadata": {},
     "output_type": "execute_result"
    }
   ],
   "source": [
    "seq2 = [None, 1, 2, 3, 4, 0, True, False, 'hi']\n",
    "max_n_true(seq1, 5)\n",
    "max_n_true(seq2, 5)  # It's now 6"
   ]
  },
  {
   "cell_type": "markdown",
   "metadata": {},
   "source": [
    "**Check If Exactly One Element in an Iterable is True:**"
   ]
  },
  {
   "cell_type": "code",
   "execution_count": 15,
   "metadata": {
    "ExecuteTime": {
     "end_time": "2019-07-29T16:43:09.897611Z",
     "start_time": "2019-07-29T16:43:09.894617Z"
    }
   },
   "outputs": [],
   "source": [
    "def single_true(iterable):\n",
    "    \"\"\" Returns True if only one element of iterable is truthy.\n",
    "    It does it by making sure the iterator has any truthy value. Then, keeps looking\n",
    "    from that point in the iterator to make sure there is no other truthy value. \"\"\"\n",
    "\n",
    "    i = iter(iterable)\n",
    "    return any(i) and not any(i)"
   ]
  },
  {
   "cell_type": "markdown",
   "metadata": {},
   "source": [
    "_Example:_ Putting a couple of the above functions to use!"
   ]
  },
  {
   "cell_type": "code",
   "execution_count": 16,
   "metadata": {
    "ExecuteTime": {
     "end_time": "2019-07-29T16:43:37.617300Z",
     "start_time": "2019-07-29T16:43:37.613304Z"
    }
   },
   "outputs": [],
   "source": [
    "# Just creating an arbitrary class and attributes\n",
    "class SampleGenerator:\n",
    "    def __init__(self, id, method1=None, method2=None, method3=None,\n",
    "                 condition1=False, condition2=False, condition3=False):\n",
    "        \"\"\"\n",
    "        Assumptions:\n",
    "        1) One and only one method can be active at a time.\n",
    "        2) Conditions are not necessary, but if passed, maximum one can have value.\n",
    "        \"\"\"\n",
    "        \n",
    "        # assumption 1\n",
    "        assert single_true([method1, method2, method3]), \"Exactly one method should be used\"\n",
    "        # assumption 2\n",
    "        assert max_n_true([condition1, condition2, condition3], 1), \"Maximum one condition can be active\"\n",
    "\n",
    "        self.id = id"
   ]
  },
  {
   "cell_type": "markdown",
   "metadata": {},
   "source": [
    "To avoid clutter, all the cases which cause an `AssertionError` are commented in the cell below. Run them and see the errors for yourself!"
   ]
  },
  {
   "cell_type": "code",
   "execution_count": 17,
   "metadata": {
    "ExecuteTime": {
     "end_time": "2019-07-29T16:45:18.713198Z",
     "start_time": "2019-07-29T16:45:18.710207Z"
    }
   },
   "outputs": [],
   "source": [
    "sample1 = SampleGenerator(1, method1='active')  # Correct. So, no error should be thrown\n",
    "\n",
    "# sample2 = SampleGenerator(2, condition2=True)  # no method is active\n",
    "# sample3 = SampleGenerator(3, method2='active', method3='not-active')  # more than one method has truthy value\n",
    "# sample4 = SampleGenerator(4, method3='do something', condition1=True, condition3=True)  # multiple condition\n",
    "# sample5 = SampleGenerator(5)  # nothing passed"
   ]
  },
  {
   "cell_type": "markdown",
   "metadata": {},
   "source": [
    "**Skip Redundant Headers When Writing to CSV:**"
   ]
  },
  {
   "cell_type": "markdown",
   "metadata": {},
   "source": [
    "Suppose you need to run a series of simulations. At the end of each run (which may even take several hours), you record some basic statistics and want to create or update a single `restults.csv` file that you use to track outcomes. If so, you probably want to skip writing headers to file after the first time.\n",
    "\n",
    "First, let's create some data to play with:"
   ]
  },
  {
   "cell_type": "code",
   "execution_count": 18,
   "metadata": {
    "ExecuteTime": {
     "end_time": "2019-07-29T16:46:35.128287Z",
     "start_time": "2019-07-29T16:46:34.427818Z"
    }
   },
   "outputs": [],
   "source": [
    "import pandas as pd\n",
    "import random\n",
    "\n",
    "# An arbitrary function\n",
    "def gen_random_data():\n",
    "    demands = [random.randint(100, 900) for _ in range(5)]\n",
    "    costs = [random.randint(100, 500) for _ in range(5)]\n",
    "    inventories = [random.randint(100, 1200) for _ in range(5)]\n",
    "    data = {'demand': demands, \n",
    "            'cost': costs, \n",
    "            'inventory': inventories}\n",
    "\n",
    "    return pd.DataFrame(data)\n",
    "\n",
    "# Let's create a few df\n",
    "df_list = [gen_random_data() for _ in range(3)]"
   ]
  },
  {
   "cell_type": "code",
   "execution_count": 19,
   "metadata": {
    "ExecuteTime": {
     "end_time": "2019-07-29T16:46:39.121140Z",
     "start_time": "2019-07-29T16:46:39.109179Z"
    }
   },
   "outputs": [
    {
     "name": "stdout",
     "output_type": "stream",
     "text": [
      "[   demand  cost  inventory\n",
      "0     821   385       1197\n",
      "1     157   232        774\n",
      "2     211   410        959\n",
      "3     456   337        192\n",
      "4     825   193        842,\n",
      "    demand  cost  inventory\n",
      "0     375   112        249\n",
      "1     123   189       1075\n",
      "2     137   432        583\n",
      "3     130   301        593\n",
      "4     130   410        652,\n",
      "    demand  cost  inventory\n",
      "0     724   189        108\n",
      "1     496   396        397\n",
      "2     392   352        264\n",
      "3     586   382       1135\n",
      "4     572   101       1080]\n"
     ]
    }
   ],
   "source": [
    "from pprint import pprint\n",
    "pprint(df_list)"
   ]
  },
  {
   "cell_type": "markdown",
   "metadata": {},
   "source": [
    "Now, let's assume that we need to write each of `df_list` dataframes to `orders.csv` as soon as they are created."
   ]
  },
  {
   "cell_type": "code",
   "execution_count": 20,
   "metadata": {
    "ExecuteTime": {
     "end_time": "2019-07-29T16:49:12.802788Z",
     "start_time": "2019-07-29T16:49:12.779848Z"
    }
   },
   "outputs": [],
   "source": [
    "import os\n",
    "\n",
    "# This is only for illustration. \n",
    "filename = 'orders.csv'\n",
    "for df in df_list:\n",
    "    df.to_csv(filename, index=False, mode='a', header=(not os.path.exists(filename)))"
   ]
  },
  {
   "cell_type": "markdown",
   "metadata": {},
   "source": [
    "If you don't need to loop over similar dataframes one at a time, the alternative below is a concise way to write them to file:"
   ]
  },
  {
   "cell_type": "code",
   "execution_count": 21,
   "metadata": {
    "ExecuteTime": {
     "end_time": "2019-07-29T16:49:38.542673Z",
     "start_time": "2019-07-29T16:49:38.533652Z"
    }
   },
   "outputs": [],
   "source": [
    "pd.concat(df_list).to_csv('orders2.csv', index=False)"
   ]
  },
  {
   "cell_type": "markdown",
   "metadata": {},
   "source": [
    "**Convert a CSV File to Python Objects:**"
   ]
  },
  {
   "cell_type": "markdown",
   "metadata": {},
   "source": [
    "Assume you need to create a collection of Python objects, where their attributes come from the columns of a CSV file, and each row of the file becomes a new instance of that class. However, let's say that you don't know ahead of time what are the CSV columns, and thus you can't initialize the class with the desired attributes.\n",
    "\n",
    "Below, you can see two ways to achieve that:"
   ]
  },
  {
   "cell_type": "code",
   "execution_count": 22,
   "metadata": {
    "ExecuteTime": {
     "end_time": "2019-07-29T16:50:20.280410Z",
     "start_time": "2019-07-29T16:50:20.272432Z"
    }
   },
   "outputs": [],
   "source": [
    "class MyClass1:\n",
    "    def __init__(self, *args, **kwargs):\n",
    "        for arg in args:\n",
    "            setattr(self, arg, arg)\n",
    "\n",
    "        for k, v in kwargs.items():\n",
    "            setattr(self, k, v)\n",
    "\n",
    "\n",
    "class MyClass2:\n",
    "    def __init__(self, **kwargs):\n",
    "        self.__dict__.update(kwargs)"
   ]
  },
  {
   "cell_type": "markdown",
   "metadata": {},
   "source": [
    "In `MyClass1` we can pass both `args` and `kwargs`, while in `MyClass2` we took advantage of the special [`__dict__`](https://stackoverflow.com/a/19907498) attribute."
   ]
  },
  {
   "cell_type": "markdown",
   "metadata": {},
   "source": [
    "_Example:_ Let's convert our `orders.csv` file from the example above to objects using both implementations:"
   ]
  },
  {
   "cell_type": "code",
   "execution_count": 23,
   "metadata": {
    "ExecuteTime": {
     "end_time": "2019-07-29T16:52:38.803857Z",
     "start_time": "2019-07-29T16:52:38.798871Z"
    }
   },
   "outputs": [],
   "source": [
    "import csv\n",
    "\n",
    "filename = 'orders.csv'\n",
    "class1_list = []\n",
    "class2_list = []\n",
    "\n",
    "with open(filename) as f:\n",
    "    reader = csv.DictReader(f)\n",
    "    for row in reader:\n",
    "        class1_list.append(MyClass1(**row))\n",
    "        class2_list.append(MyClass2(**row))"
   ]
  },
  {
   "cell_type": "code",
   "execution_count": 24,
   "metadata": {
    "ExecuteTime": {
     "end_time": "2019-07-29T16:53:23.271314Z",
     "start_time": "2019-07-29T16:53:23.264331Z"
    }
   },
   "outputs": [
    {
     "name": "stdout",
     "output_type": "stream",
     "text": [
      "first row = {'demand': '821', 'cost': '385', 'inventory': '1197'}\n",
      "first row = {'demand': '821', 'cost': '385', 'inventory': '1197'}\n"
     ]
    },
    {
     "data": {
      "text/plain": [
       "[{'demand': '821', 'cost': '385', 'inventory': '1197'},\n",
       " {'demand': '157', 'cost': '232', 'inventory': '774'},\n",
       " {'demand': '211', 'cost': '410', 'inventory': '959'},\n",
       " {'demand': '456', 'cost': '337', 'inventory': '192'},\n",
       " {'demand': '825', 'cost': '193', 'inventory': '842'},\n",
       " {'demand': '375', 'cost': '112', 'inventory': '249'},\n",
       " {'demand': '123', 'cost': '189', 'inventory': '1075'},\n",
       " {'demand': '137', 'cost': '432', 'inventory': '583'},\n",
       " {'demand': '130', 'cost': '301', 'inventory': '593'},\n",
       " {'demand': '130', 'cost': '410', 'inventory': '652'},\n",
       " {'demand': '724', 'cost': '189', 'inventory': '108'},\n",
       " {'demand': '496', 'cost': '396', 'inventory': '397'},\n",
       " {'demand': '392', 'cost': '352', 'inventory': '264'},\n",
       " {'demand': '586', 'cost': '382', 'inventory': '1135'},\n",
       " {'demand': '572', 'cost': '101', 'inventory': '1080'},\n",
       " {'demand': '821', 'cost': '385', 'inventory': '1197'},\n",
       " {'demand': '157', 'cost': '232', 'inventory': '774'},\n",
       " {'demand': '211', 'cost': '410', 'inventory': '959'},\n",
       " {'demand': '456', 'cost': '337', 'inventory': '192'},\n",
       " {'demand': '825', 'cost': '193', 'inventory': '842'},\n",
       " {'demand': '375', 'cost': '112', 'inventory': '249'},\n",
       " {'demand': '123', 'cost': '189', 'inventory': '1075'},\n",
       " {'demand': '137', 'cost': '432', 'inventory': '583'},\n",
       " {'demand': '130', 'cost': '301', 'inventory': '593'},\n",
       " {'demand': '130', 'cost': '410', 'inventory': '652'},\n",
       " {'demand': '724', 'cost': '189', 'inventory': '108'},\n",
       " {'demand': '496', 'cost': '396', 'inventory': '397'},\n",
       " {'demand': '392', 'cost': '352', 'inventory': '264'},\n",
       " {'demand': '586', 'cost': '382', 'inventory': '1135'},\n",
       " {'demand': '572', 'cost': '101', 'inventory': '1080'}]"
      ]
     },
     "execution_count": 24,
     "metadata": {},
     "output_type": "execute_result"
    }
   ],
   "source": [
    "# Let's check the attributes of the first row of each list\n",
    "print(f'first row = {vars(class1_list[0])}')\n",
    "print(f'first row = {vars(class2_list[0])}')\n",
    "\n",
    "# Let's see all the attributes and data\n",
    "[vars(c) for c in class1_list]"
   ]
  },
  {
   "cell_type": "code",
   "execution_count": null,
   "metadata": {},
   "outputs": [],
   "source": []
  }
 ],
 "metadata": {
  "kernelspec": {
   "display_name": "Python 3",
   "language": "python",
   "name": "python3"
  },
  "language_info": {
   "codemirror_mode": {
    "name": "ipython",
    "version": 3
   },
   "file_extension": ".py",
   "mimetype": "text/x-python",
   "name": "python",
   "nbconvert_exporter": "python",
   "pygments_lexer": "ipython3",
   "version": "3.7.1"
  },
  "toc": {
   "base_numbering": 1,
   "nav_menu": {},
   "number_sections": true,
   "sideBar": true,
   "skip_h1_title": false,
   "title_cell": "Table of Contents",
   "title_sidebar": "Contents",
   "toc_cell": false,
   "toc_position": {},
   "toc_section_display": true,
   "toc_window_display": false
  },
  "varInspector": {
   "cols": {
    "lenName": 16,
    "lenType": 16,
    "lenVar": 40
   },
   "kernels_config": {
    "python": {
     "delete_cmd_postfix": "",
     "delete_cmd_prefix": "del ",
     "library": "var_list.py",
     "varRefreshCmd": "print(var_dic_list())"
    },
    "r": {
     "delete_cmd_postfix": ") ",
     "delete_cmd_prefix": "rm(",
     "library": "var_list.r",
     "varRefreshCmd": "cat(var_dic_list()) "
    }
   },
   "types_to_exclude": [
    "module",
    "function",
    "builtin_function_or_method",
    "instance",
    "_Feature"
   ],
   "window_display": false
  }
 },
 "nbformat": 4,
 "nbformat_minor": 2
}
